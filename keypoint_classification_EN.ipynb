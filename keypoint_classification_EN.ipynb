{
  "cells": [
    {
      "cell_type": "code",
      "execution_count": 23,
      "metadata": {
        "id": "igMyGnjE9hEp"
      },
      "outputs": [],
      "source": [
        "import csv\n",
        "\n",
        "import numpy as np\n",
        "import tensorflow as tf\n",
        "from sklearn.model_selection import train_test_split\n",
        "\n",
        "RANDOM_SEED = 42"
      ]
    },
    {
      "cell_type": "markdown",
      "metadata": {
        "id": "t2HDvhIu9hEr"
      },
      "source": [
        "# Specify each path"
      ]
    },
    {
      "cell_type": "code",
      "execution_count": 24,
      "metadata": {
        "id": "9NvZP2Zn9hEy"
      },
      "outputs": [],
      "source": [
        "dataset = 'model/keypoint_classifier/keypoint.csv'\n",
        "model_save_path = 'model/keypoint_classifier/keypoint_classifier.hdf5'\n",
        "tflite_save_path = 'model/keypoint_classifier/keypoint_classifier.tflite'"
      ]
    },
    {
      "cell_type": "markdown",
      "metadata": {
        "id": "s5oMH7x19hEz"
      },
      "source": [
        "# Set number of classes"
      ]
    },
    {
      "cell_type": "code",
      "execution_count": 25,
      "metadata": {
        "id": "du4kodXL9hEz"
      },
      "outputs": [],
      "source": [
        "NUM_CLASSES = 6"
      ]
    },
    {
      "cell_type": "markdown",
      "metadata": {
        "id": "XjnL0uso9hEz"
      },
      "source": [
        "# Dataset reading"
      ]
    },
    {
      "cell_type": "code",
      "execution_count": 26,
      "metadata": {
        "id": "QT5ZqtEz9hE0"
      },
      "outputs": [],
      "source": [
        "X_dataset = np.loadtxt(dataset, delimiter=',', dtype='float32', usecols=list(range(1, (21 * 2) + 1)))"
      ]
    },
    {
      "cell_type": "code",
      "execution_count": 27,
      "metadata": {
        "id": "QmoKFsp49hE0"
      },
      "outputs": [],
      "source": [
        "y_dataset = np.loadtxt(dataset, delimiter=',', dtype='int32', usecols=(0))"
      ]
    },
    {
      "cell_type": "code",
      "execution_count": 28,
      "metadata": {
        "id": "xQU7JTZ_9hE0"
      },
      "outputs": [],
      "source": [
        "X_train, X_test, y_train, y_test = train_test_split(X_dataset, y_dataset, train_size=0.75, random_state=RANDOM_SEED)"
      ]
    },
    {
      "cell_type": "markdown",
      "metadata": {
        "id": "mxK_lETT9hE0"
      },
      "source": [
        "# Model building"
      ]
    },
    {
      "cell_type": "code",
      "execution_count": 29,
      "metadata": {
        "id": "vHBmUf1t9hE1"
      },
      "outputs": [],
      "source": [
        "model = tf.keras.models.Sequential([\n",
        "    tf.keras.layers.Input((21 * 2, )),\n",
        "    tf.keras.layers.Dropout(0.2),\n",
        "    tf.keras.layers.Dense(20, activation='relu'),\n",
        "    tf.keras.layers.Dropout(0.4),\n",
        "    tf.keras.layers.Dense(10, activation='relu'),\n",
        "    tf.keras.layers.Dense(NUM_CLASSES, activation='softmax')\n",
        "])"
      ]
    },
    {
      "cell_type": "code",
      "execution_count": 30,
      "metadata": {
        "colab": {
          "base_uri": "https://localhost:8080/"
        },
        "id": "ypqky9tc9hE1",
        "outputId": "5db082bb-30e3-4110-bf63-a1ee777ecd46"
      },
      "outputs": [
        {
          "name": "stdout",
          "output_type": "stream",
          "text": [
            "Model: \"sequential_1\"\n",
            "_________________________________________________________________\n",
            " Layer (type)                Output Shape              Param #   \n",
            "=================================================================\n",
            " dropout_2 (Dropout)         (None, 42)                0         \n",
            "                                                                 \n",
            " dense_3 (Dense)             (None, 20)                860       \n",
            "                                                                 \n",
            " dropout_3 (Dropout)         (None, 20)                0         \n",
            "                                                                 \n",
            " dense_4 (Dense)             (None, 10)                210       \n",
            "                                                                 \n",
            " dense_5 (Dense)             (None, 6)                 66        \n",
            "                                                                 \n",
            "=================================================================\n",
            "Total params: 1136 (4.44 KB)\n",
            "Trainable params: 1136 (4.44 KB)\n",
            "Non-trainable params: 0 (0.00 Byte)\n",
            "_________________________________________________________________\n"
          ]
        }
      ],
      "source": [
        "model.summary()  # tf.keras.utils.plot_model(model, show_shapes=True)"
      ]
    },
    {
      "cell_type": "code",
      "execution_count": 31,
      "metadata": {
        "id": "MbMjOflQ9hE1"
      },
      "outputs": [],
      "source": [
        "# Model checkpoint callback\n",
        "cp_callback = tf.keras.callbacks.ModelCheckpoint(\n",
        "    model_save_path, verbose=1, save_weights_only=False)\n",
        "# Callback for early stopping\n",
        "es_callback = tf.keras.callbacks.EarlyStopping(patience=20, verbose=1)"
      ]
    },
    {
      "cell_type": "code",
      "execution_count": 32,
      "metadata": {
        "id": "c3Dac0M_9hE2"
      },
      "outputs": [],
      "source": [
        "# Model compilation\n",
        "model.compile(\n",
        "    optimizer='adam',\n",
        "    loss='sparse_categorical_crossentropy',\n",
        "    metrics=['accuracy']\n",
        ")"
      ]
    },
    {
      "cell_type": "markdown",
      "metadata": {
        "id": "7XI0j1Iu9hE2"
      },
      "source": [
        "# Model training"
      ]
    },
    {
      "cell_type": "code",
      "execution_count": 33,
      "metadata": {
        "colab": {
          "base_uri": "https://localhost:8080/"
        },
        "id": "WirBl-JE9hE3",
        "outputId": "71b30ca2-8294-4d9d-8aa2-800d90d399de",
        "scrolled": true
      },
      "outputs": [
        {
          "name": "stdout",
          "output_type": "stream",
          "text": [
            "Epoch 1/1000\n"
          ]
        },
        {
          "name": "stdout",
          "output_type": "stream",
          "text": [
            "33/35 [===========================>..] - ETA: 0s - loss: 1.7516 - accuracy: 0.2585\n",
            "Epoch 1: saving model to model/keypoint_classifier\\keypoint_classifier.hdf5\n",
            "35/35 [==============================] - 2s 16ms/step - loss: 1.7491 - accuracy: 0.2601 - val_loss: 1.6630 - val_accuracy: 0.3113\n",
            "Epoch 2/1000\n",
            "18/35 [==============>...............] - ETA: 0s - loss: 1.6497 - accuracy: 0.3016"
          ]
        },
        {
          "name": "stderr",
          "output_type": "stream",
          "text": [
            "c:\\Users\\joris\\miniconda3\\envs\\p39\\lib\\site-packages\\keras\\src\\engine\\training.py:3103: UserWarning: You are saving your model as an HDF5 file via `model.save()`. This file format is considered legacy. We recommend using instead the native Keras format, e.g. `model.save('my_model.keras')`.\n",
            "  saving_api.save_model(\n"
          ]
        },
        {
          "name": "stdout",
          "output_type": "stream",
          "text": [
            "29/35 [=======================>......] - ETA: 0s - loss: 1.6290 - accuracy: 0.3120\n",
            "Epoch 2: saving model to model/keypoint_classifier\\keypoint_classifier.hdf5\n",
            "35/35 [==============================] - 0s 7ms/step - loss: 1.6235 - accuracy: 0.3109 - val_loss: 1.5485 - val_accuracy: 0.3577\n",
            "Epoch 3/1000\n",
            "33/35 [===========================>..] - ETA: 0s - loss: 1.5365 - accuracy: 0.3447\n",
            "Epoch 3: saving model to model/keypoint_classifier\\keypoint_classifier.hdf5\n",
            "35/35 [==============================] - 0s 8ms/step - loss: 1.5350 - accuracy: 0.3450 - val_loss: 1.4446 - val_accuracy: 0.4328\n",
            "Epoch 4/1000\n",
            "31/35 [=========================>....] - ETA: 0s - loss: 1.4516 - accuracy: 0.3939\n",
            "Epoch 4: saving model to model/keypoint_classifier\\keypoint_classifier.hdf5\n",
            "35/35 [==============================] - 0s 9ms/step - loss: 1.4515 - accuracy: 0.3928 - val_loss: 1.3459 - val_accuracy: 0.4874\n",
            "Epoch 5/1000\n",
            "18/35 [==============>...............] - ETA: 0s - loss: 1.4173 - accuracy: 0.4093\n",
            "Epoch 5: saving model to model/keypoint_classifier\\keypoint_classifier.hdf5\n",
            "35/35 [==============================] - 0s 8ms/step - loss: 1.4078 - accuracy: 0.4096 - val_loss: 1.2747 - val_accuracy: 0.5249\n",
            "Epoch 6/1000\n",
            "35/35 [==============================] - ETA: 0s - loss: 1.3639 - accuracy: 0.4276\n",
            "Epoch 6: saving model to model/keypoint_classifier\\keypoint_classifier.hdf5\n",
            "35/35 [==============================] - 0s 9ms/step - loss: 1.3639 - accuracy: 0.4276 - val_loss: 1.2158 - val_accuracy: 0.5638\n",
            "Epoch 7/1000\n",
            "21/35 [=================>............] - ETA: 0s - loss: 1.3257 - accuracy: 0.4576\n",
            "Epoch 7: saving model to model/keypoint_classifier\\keypoint_classifier.hdf5\n",
            "35/35 [==============================] - 0s 6ms/step - loss: 1.3319 - accuracy: 0.4547 - val_loss: 1.1629 - val_accuracy: 0.6007\n",
            "Epoch 8/1000\n",
            "32/35 [==========================>...] - ETA: 0s - loss: 1.3028 - accuracy: 0.4683\n",
            "Epoch 8: saving model to model/keypoint_classifier\\keypoint_classifier.hdf5\n",
            "35/35 [==============================] - 0s 8ms/step - loss: 1.3014 - accuracy: 0.4679 - val_loss: 1.1206 - val_accuracy: 0.6389\n",
            "Epoch 9/1000\n",
            "33/35 [===========================>..] - ETA: 0s - loss: 1.2518 - accuracy: 0.5002\n",
            "Epoch 9: saving model to model/keypoint_classifier\\keypoint_classifier.hdf5\n",
            "35/35 [==============================] - 0s 8ms/step - loss: 1.2517 - accuracy: 0.5023 - val_loss: 1.0707 - val_accuracy: 0.6655\n",
            "Epoch 10/1000\n",
            "18/35 [==============>...............] - ETA: 0s - loss: 1.2362 - accuracy: 0.5065\n",
            "Epoch 10: saving model to model/keypoint_classifier\\keypoint_classifier.hdf5\n",
            "35/35 [==============================] - 0s 9ms/step - loss: 1.2329 - accuracy: 0.5082 - val_loss: 1.0251 - val_accuracy: 0.6915\n",
            "Epoch 11/1000\n",
            "17/35 [=============>................] - ETA: 0s - loss: 1.1944 - accuracy: 0.5184\n",
            "Epoch 11: saving model to model/keypoint_classifier\\keypoint_classifier.hdf5\n",
            "35/35 [==============================] - 0s 7ms/step - loss: 1.1976 - accuracy: 0.5159 - val_loss: 0.9788 - val_accuracy: 0.7201\n",
            "Epoch 12/1000\n",
            "35/35 [==============================] - ETA: 0s - loss: 1.1725 - accuracy: 0.5321\n",
            "Epoch 12: saving model to model/keypoint_classifier\\keypoint_classifier.hdf5\n",
            "35/35 [==============================] - 0s 6ms/step - loss: 1.1725 - accuracy: 0.5321 - val_loss: 0.9339 - val_accuracy: 0.7563\n",
            "Epoch 13/1000\n",
            "24/35 [===================>..........] - ETA: 0s - loss: 1.1385 - accuracy: 0.5511\n",
            "Epoch 13: saving model to model/keypoint_classifier\\keypoint_classifier.hdf5\n",
            "35/35 [==============================] - 0s 5ms/step - loss: 1.1468 - accuracy: 0.5462 - val_loss: 0.8934 - val_accuracy: 0.7611\n",
            "Epoch 14/1000\n",
            "23/35 [==================>...........] - ETA: 0s - loss: 1.1273 - accuracy: 0.5493\n",
            "Epoch 14: saving model to model/keypoint_classifier\\keypoint_classifier.hdf5\n",
            "35/35 [==============================] - 0s 5ms/step - loss: 1.1162 - accuracy: 0.5614 - val_loss: 0.8544 - val_accuracy: 0.7693\n",
            "Epoch 15/1000\n",
            "22/35 [=================>............] - ETA: 0s - loss: 1.0828 - accuracy: 0.5675\n",
            "Epoch 15: saving model to model/keypoint_classifier\\keypoint_classifier.hdf5\n",
            "35/35 [==============================] - 0s 6ms/step - loss: 1.0946 - accuracy: 0.5658 - val_loss: 0.8162 - val_accuracy: 0.7802\n",
            "Epoch 16/1000\n",
            "24/35 [===================>..........] - ETA: 0s - loss: 1.0749 - accuracy: 0.5648\n",
            "Epoch 16: saving model to model/keypoint_classifier\\keypoint_classifier.hdf5\n",
            "35/35 [==============================] - 0s 6ms/step - loss: 1.0722 - accuracy: 0.5717 - val_loss: 0.7841 - val_accuracy: 0.7809\n",
            "Epoch 17/1000\n",
            "25/35 [====================>.........] - ETA: 0s - loss: 1.0775 - accuracy: 0.5766\n",
            "Epoch 17: saving model to model/keypoint_classifier\\keypoint_classifier.hdf5\n",
            "35/35 [==============================] - 0s 6ms/step - loss: 1.0711 - accuracy: 0.5792 - val_loss: 0.7560 - val_accuracy: 0.8020\n",
            "Epoch 18/1000\n",
            "20/35 [================>.............] - ETA: 0s - loss: 1.0467 - accuracy: 0.5883\n",
            "Epoch 18: saving model to model/keypoint_classifier\\keypoint_classifier.hdf5\n",
            "35/35 [==============================] - 0s 7ms/step - loss: 1.0471 - accuracy: 0.5824 - val_loss: 0.7257 - val_accuracy: 0.8055\n",
            "Epoch 19/1000\n",
            "24/35 [===================>..........] - ETA: 0s - loss: 1.0312 - accuracy: 0.6019\n",
            "Epoch 19: saving model to model/keypoint_classifier\\keypoint_classifier.hdf5\n",
            "35/35 [==============================] - 0s 5ms/step - loss: 1.0237 - accuracy: 0.6040 - val_loss: 0.7087 - val_accuracy: 0.8157\n",
            "Epoch 20/1000\n",
            "23/35 [==================>...........] - ETA: 0s - loss: 0.9996 - accuracy: 0.6111\n",
            "Epoch 20: saving model to model/keypoint_classifier\\keypoint_classifier.hdf5\n",
            "35/35 [==============================] - 0s 6ms/step - loss: 1.0076 - accuracy: 0.6095 - val_loss: 0.6790 - val_accuracy: 0.8225\n",
            "Epoch 21/1000\n",
            "22/35 [=================>............] - ETA: 0s - loss: 0.9912 - accuracy: 0.6186\n",
            "Epoch 21: saving model to model/keypoint_classifier\\keypoint_classifier.hdf5\n",
            "35/35 [==============================] - 0s 5ms/step - loss: 0.9823 - accuracy: 0.6231 - val_loss: 0.6616 - val_accuracy: 0.8341\n",
            "Epoch 22/1000\n",
            "24/35 [===================>..........] - ETA: 0s - loss: 0.9913 - accuracy: 0.6178\n",
            "Epoch 22: saving model to model/keypoint_classifier\\keypoint_classifier.hdf5\n",
            "35/35 [==============================] - 0s 6ms/step - loss: 0.9953 - accuracy: 0.6190 - val_loss: 0.6483 - val_accuracy: 0.8478\n",
            "Epoch 23/1000\n",
            "24/35 [===================>..........] - ETA: 0s - loss: 0.9617 - accuracy: 0.6240\n",
            "Epoch 23: saving model to model/keypoint_classifier\\keypoint_classifier.hdf5\n",
            "35/35 [==============================] - 0s 5ms/step - loss: 0.9655 - accuracy: 0.6231 - val_loss: 0.6316 - val_accuracy: 0.8457\n",
            "Epoch 24/1000\n",
            "25/35 [====================>.........] - ETA: 0s - loss: 0.9588 - accuracy: 0.6231\n",
            "Epoch 24: saving model to model/keypoint_classifier\\keypoint_classifier.hdf5\n",
            "35/35 [==============================] - 0s 4ms/step - loss: 0.9572 - accuracy: 0.6236 - val_loss: 0.6162 - val_accuracy: 0.8669\n",
            "Epoch 25/1000\n",
            "25/35 [====================>.........] - ETA: 0s - loss: 0.9542 - accuracy: 0.6319\n",
            "Epoch 25: saving model to model/keypoint_classifier\\keypoint_classifier.hdf5\n",
            "35/35 [==============================] - 0s 5ms/step - loss: 0.9477 - accuracy: 0.6293 - val_loss: 0.6079 - val_accuracy: 0.8724\n",
            "Epoch 26/1000\n",
            "26/35 [=====================>........] - ETA: 0s - loss: 0.9359 - accuracy: 0.6358\n",
            "Epoch 26: saving model to model/keypoint_classifier\\keypoint_classifier.hdf5\n",
            "35/35 [==============================] - 0s 5ms/step - loss: 0.9333 - accuracy: 0.6431 - val_loss: 0.5942 - val_accuracy: 0.8730\n",
            "Epoch 27/1000\n",
            "25/35 [====================>.........] - ETA: 0s - loss: 0.9279 - accuracy: 0.6484\n",
            "Epoch 27: saving model to model/keypoint_classifier\\keypoint_classifier.hdf5\n",
            "35/35 [==============================] - 0s 5ms/step - loss: 0.9308 - accuracy: 0.6477 - val_loss: 0.5828 - val_accuracy: 0.8744\n",
            "Epoch 28/1000\n",
            "24/35 [===================>..........] - ETA: 0s - loss: 0.9228 - accuracy: 0.6452\n",
            "Epoch 28: saving model to model/keypoint_classifier\\keypoint_classifier.hdf5\n",
            "35/35 [==============================] - 0s 6ms/step - loss: 0.9269 - accuracy: 0.6402 - val_loss: 0.5681 - val_accuracy: 0.8840\n",
            "Epoch 29/1000\n",
            "16/35 [============>.................] - ETA: 0s - loss: 0.8846 - accuracy: 0.6689\n",
            "Epoch 29: saving model to model/keypoint_classifier\\keypoint_classifier.hdf5\n",
            "35/35 [==============================] - 0s 5ms/step - loss: 0.8839 - accuracy: 0.6666 - val_loss: 0.5544 - val_accuracy: 0.8867\n",
            "Epoch 30/1000\n",
            "25/35 [====================>.........] - ETA: 0s - loss: 0.9023 - accuracy: 0.6559\n",
            "Epoch 30: saving model to model/keypoint_classifier\\keypoint_classifier.hdf5\n",
            "35/35 [==============================] - 0s 5ms/step - loss: 0.9054 - accuracy: 0.6511 - val_loss: 0.5444 - val_accuracy: 0.8956\n",
            "Epoch 31/1000\n",
            "24/35 [===================>..........] - ETA: 0s - loss: 0.8826 - accuracy: 0.6686\n",
            "Epoch 31: saving model to model/keypoint_classifier\\keypoint_classifier.hdf5\n",
            "35/35 [==============================] - 0s 5ms/step - loss: 0.8770 - accuracy: 0.6732 - val_loss: 0.5360 - val_accuracy: 0.8928\n",
            "Epoch 32/1000\n",
            "25/35 [====================>.........] - ETA: 0s - loss: 0.8869 - accuracy: 0.6572\n",
            "Epoch 32: saving model to model/keypoint_classifier\\keypoint_classifier.hdf5\n",
            "35/35 [==============================] - 0s 5ms/step - loss: 0.8807 - accuracy: 0.6604 - val_loss: 0.5333 - val_accuracy: 0.8901\n",
            "Epoch 33/1000\n",
            "25/35 [====================>.........] - ETA: 0s - loss: 0.8794 - accuracy: 0.6672\n",
            "Epoch 33: saving model to model/keypoint_classifier\\keypoint_classifier.hdf5\n",
            "35/35 [==============================] - 0s 6ms/step - loss: 0.8866 - accuracy: 0.6661 - val_loss: 0.5242 - val_accuracy: 0.8928\n",
            "Epoch 34/1000\n",
            "24/35 [===================>..........] - ETA: 0s - loss: 0.8885 - accuracy: 0.6644\n",
            "Epoch 34: saving model to model/keypoint_classifier\\keypoint_classifier.hdf5\n",
            "35/35 [==============================] - 0s 5ms/step - loss: 0.8779 - accuracy: 0.6643 - val_loss: 0.5166 - val_accuracy: 0.8962\n",
            "Epoch 35/1000\n",
            "25/35 [====================>.........] - ETA: 0s - loss: 0.8610 - accuracy: 0.6806\n",
            "Epoch 35: saving model to model/keypoint_classifier\\keypoint_classifier.hdf5\n",
            "35/35 [==============================] - 0s 5ms/step - loss: 0.8568 - accuracy: 0.6800 - val_loss: 0.5127 - val_accuracy: 0.8969\n",
            "Epoch 36/1000\n",
            "25/35 [====================>.........] - ETA: 0s - loss: 0.8471 - accuracy: 0.6712\n",
            "Epoch 36: saving model to model/keypoint_classifier\\keypoint_classifier.hdf5\n",
            "35/35 [==============================] - 0s 5ms/step - loss: 0.8555 - accuracy: 0.6702 - val_loss: 0.5043 - val_accuracy: 0.8928\n",
            "Epoch 37/1000\n",
            "24/35 [===================>..........] - ETA: 0s - loss: 0.8643 - accuracy: 0.6745\n",
            "Epoch 37: saving model to model/keypoint_classifier\\keypoint_classifier.hdf5\n",
            "35/35 [==============================] - 0s 5ms/step - loss: 0.8615 - accuracy: 0.6730 - val_loss: 0.4979 - val_accuracy: 0.9051\n",
            "Epoch 38/1000\n",
            "25/35 [====================>.........] - ETA: 0s - loss: 0.8564 - accuracy: 0.6744\n",
            "Epoch 38: saving model to model/keypoint_classifier\\keypoint_classifier.hdf5\n",
            "35/35 [==============================] - 0s 6ms/step - loss: 0.8567 - accuracy: 0.6714 - val_loss: 0.4908 - val_accuracy: 0.9044\n",
            "Epoch 39/1000\n",
            "23/35 [==================>...........] - ETA: 0s - loss: 0.8396 - accuracy: 0.6889\n",
            "Epoch 39: saving model to model/keypoint_classifier\\keypoint_classifier.hdf5\n",
            "35/35 [==============================] - 0s 5ms/step - loss: 0.8507 - accuracy: 0.6805 - val_loss: 0.4868 - val_accuracy: 0.9051\n",
            "Epoch 40/1000\n",
            "24/35 [===================>..........] - ETA: 0s - loss: 0.8545 - accuracy: 0.6667\n",
            "Epoch 40: saving model to model/keypoint_classifier\\keypoint_classifier.hdf5\n",
            "35/35 [==============================] - 0s 5ms/step - loss: 0.8622 - accuracy: 0.6695 - val_loss: 0.4857 - val_accuracy: 0.9024\n",
            "Epoch 41/1000\n",
            "25/35 [====================>.........] - ETA: 0s - loss: 0.8310 - accuracy: 0.6891\n",
            "Epoch 41: saving model to model/keypoint_classifier\\keypoint_classifier.hdf5\n",
            "35/35 [==============================] - 0s 5ms/step - loss: 0.8321 - accuracy: 0.6875 - val_loss: 0.4810 - val_accuracy: 0.9024\n",
            "Epoch 42/1000\n",
            "25/35 [====================>.........] - ETA: 0s - loss: 0.8348 - accuracy: 0.6841\n",
            "Epoch 42: saving model to model/keypoint_classifier\\keypoint_classifier.hdf5\n",
            "35/35 [==============================] - 0s 5ms/step - loss: 0.8242 - accuracy: 0.6893 - val_loss: 0.4679 - val_accuracy: 0.9010\n",
            "Epoch 43/1000\n",
            "24/35 [===================>..........] - ETA: 0s - loss: 0.8224 - accuracy: 0.6833\n",
            "Epoch 43: saving model to model/keypoint_classifier\\keypoint_classifier.hdf5\n",
            "35/35 [==============================] - 0s 5ms/step - loss: 0.8309 - accuracy: 0.6827 - val_loss: 0.4656 - val_accuracy: 0.8997\n",
            "Epoch 44/1000\n",
            "24/35 [===================>..........] - ETA: 0s - loss: 0.8201 - accuracy: 0.6927\n",
            "Epoch 44: saving model to model/keypoint_classifier\\keypoint_classifier.hdf5\n",
            "35/35 [==============================] - 0s 5ms/step - loss: 0.8138 - accuracy: 0.6978 - val_loss: 0.4591 - val_accuracy: 0.9072\n",
            "Epoch 45/1000\n",
            "23/35 [==================>...........] - ETA: 0s - loss: 0.7872 - accuracy: 0.7048\n",
            "Epoch 45: saving model to model/keypoint_classifier\\keypoint_classifier.hdf5\n",
            "35/35 [==============================] - 0s 5ms/step - loss: 0.8055 - accuracy: 0.6939 - val_loss: 0.4534 - val_accuracy: 0.9078\n",
            "Epoch 46/1000\n",
            "21/35 [=================>............] - ETA: 0s - loss: 0.8008 - accuracy: 0.6864\n",
            "Epoch 46: saving model to model/keypoint_classifier\\keypoint_classifier.hdf5\n",
            "35/35 [==============================] - 0s 5ms/step - loss: 0.8052 - accuracy: 0.6905 - val_loss: 0.4539 - val_accuracy: 0.9072\n",
            "Epoch 47/1000\n",
            "25/35 [====================>.........] - ETA: 0s - loss: 0.8262 - accuracy: 0.6913\n",
            "Epoch 47: saving model to model/keypoint_classifier\\keypoint_classifier.hdf5\n",
            "35/35 [==============================] - 0s 5ms/step - loss: 0.8262 - accuracy: 0.6893 - val_loss: 0.4559 - val_accuracy: 0.9133\n",
            "Epoch 48/1000\n",
            "21/35 [=================>............] - ETA: 0s - loss: 0.7929 - accuracy: 0.7076\n",
            "Epoch 48: saving model to model/keypoint_classifier\\keypoint_classifier.hdf5\n",
            "35/35 [==============================] - 0s 5ms/step - loss: 0.7996 - accuracy: 0.7060 - val_loss: 0.4468 - val_accuracy: 0.9044\n",
            "Epoch 49/1000\n",
            "24/35 [===================>..........] - ETA: 0s - loss: 0.7958 - accuracy: 0.7100\n",
            "Epoch 49: saving model to model/keypoint_classifier\\keypoint_classifier.hdf5\n",
            "35/35 [==============================] - 0s 5ms/step - loss: 0.8084 - accuracy: 0.7005 - val_loss: 0.4443 - val_accuracy: 0.9024\n",
            "Epoch 50/1000\n",
            "24/35 [===================>..........] - ETA: 0s - loss: 0.7996 - accuracy: 0.7002\n",
            "Epoch 50: saving model to model/keypoint_classifier\\keypoint_classifier.hdf5\n",
            "35/35 [==============================] - 0s 6ms/step - loss: 0.7984 - accuracy: 0.6969 - val_loss: 0.4467 - val_accuracy: 0.9065\n",
            "Epoch 51/1000\n",
            "20/35 [================>.............] - ETA: 0s - loss: 0.7981 - accuracy: 0.7039\n",
            "Epoch 51: saving model to model/keypoint_classifier\\keypoint_classifier.hdf5\n",
            "35/35 [==============================] - 0s 5ms/step - loss: 0.7957 - accuracy: 0.7123 - val_loss: 0.4363 - val_accuracy: 0.9038\n",
            "Epoch 52/1000\n",
            "24/35 [===================>..........] - ETA: 0s - loss: 0.7905 - accuracy: 0.7100\n",
            "Epoch 52: saving model to model/keypoint_classifier\\keypoint_classifier.hdf5\n",
            "35/35 [==============================] - 0s 6ms/step - loss: 0.7934 - accuracy: 0.7080 - val_loss: 0.4318 - val_accuracy: 0.9201\n",
            "Epoch 53/1000\n",
            "25/35 [====================>.........] - ETA: 0s - loss: 0.8092 - accuracy: 0.7047\n",
            "Epoch 53: saving model to model/keypoint_classifier\\keypoint_classifier.hdf5\n",
            "35/35 [==============================] - 0s 7ms/step - loss: 0.8034 - accuracy: 0.7021 - val_loss: 0.4318 - val_accuracy: 0.9092\n",
            "Epoch 54/1000\n",
            "24/35 [===================>..........] - ETA: 0s - loss: 0.7836 - accuracy: 0.7113\n",
            "Epoch 54: saving model to model/keypoint_classifier\\keypoint_classifier.hdf5\n",
            "35/35 [==============================] - 0s 6ms/step - loss: 0.7803 - accuracy: 0.7137 - val_loss: 0.4283 - val_accuracy: 0.9147\n",
            "Epoch 55/1000\n",
            "24/35 [===================>..........] - ETA: 0s - loss: 0.7986 - accuracy: 0.7074\n",
            "Epoch 55: saving model to model/keypoint_classifier\\keypoint_classifier.hdf5\n",
            "35/35 [==============================] - 0s 6ms/step - loss: 0.7951 - accuracy: 0.7119 - val_loss: 0.4212 - val_accuracy: 0.9154\n",
            "Epoch 56/1000\n",
            "24/35 [===================>..........] - ETA: 0s - loss: 0.7886 - accuracy: 0.7054\n",
            "Epoch 56: saving model to model/keypoint_classifier\\keypoint_classifier.hdf5\n",
            "35/35 [==============================] - 0s 6ms/step - loss: 0.7953 - accuracy: 0.7014 - val_loss: 0.4280 - val_accuracy: 0.9113\n",
            "Epoch 57/1000\n",
            "25/35 [====================>.........] - ETA: 0s - loss: 0.7630 - accuracy: 0.7116\n",
            "Epoch 57: saving model to model/keypoint_classifier\\keypoint_classifier.hdf5\n",
            "35/35 [==============================] - 0s 6ms/step - loss: 0.7651 - accuracy: 0.7060 - val_loss: 0.4179 - val_accuracy: 0.9249\n",
            "Epoch 58/1000\n",
            "24/35 [===================>..........] - ETA: 0s - loss: 0.7828 - accuracy: 0.7041\n",
            "Epoch 58: saving model to model/keypoint_classifier\\keypoint_classifier.hdf5\n",
            "35/35 [==============================] - 0s 6ms/step - loss: 0.7868 - accuracy: 0.7051 - val_loss: 0.4152 - val_accuracy: 0.9229\n",
            "Epoch 59/1000\n",
            "25/35 [====================>.........] - ETA: 0s - loss: 0.7848 - accuracy: 0.7075\n",
            "Epoch 59: saving model to model/keypoint_classifier\\keypoint_classifier.hdf5\n",
            "35/35 [==============================] - 0s 6ms/step - loss: 0.7742 - accuracy: 0.7139 - val_loss: 0.4125 - val_accuracy: 0.9215\n",
            "Epoch 60/1000\n",
            "25/35 [====================>.........] - ETA: 0s - loss: 0.7729 - accuracy: 0.7119\n",
            "Epoch 60: saving model to model/keypoint_classifier\\keypoint_classifier.hdf5\n",
            "35/35 [==============================] - 0s 6ms/step - loss: 0.7790 - accuracy: 0.7078 - val_loss: 0.4119 - val_accuracy: 0.9181\n",
            "Epoch 61/1000\n",
            "24/35 [===================>..........] - ETA: 0s - loss: 0.7708 - accuracy: 0.7103\n",
            "Epoch 61: saving model to model/keypoint_classifier\\keypoint_classifier.hdf5\n",
            "35/35 [==============================] - 0s 5ms/step - loss: 0.7730 - accuracy: 0.7069 - val_loss: 0.4066 - val_accuracy: 0.9215\n",
            "Epoch 62/1000\n",
            "25/35 [====================>.........] - ETA: 0s - loss: 0.7597 - accuracy: 0.7266\n",
            "Epoch 62: saving model to model/keypoint_classifier\\keypoint_classifier.hdf5\n",
            "35/35 [==============================] - 0s 4ms/step - loss: 0.7570 - accuracy: 0.7228 - val_loss: 0.4000 - val_accuracy: 0.9290\n",
            "Epoch 63/1000\n",
            "22/35 [=================>............] - ETA: 0s - loss: 0.7680 - accuracy: 0.7095\n",
            "Epoch 63: saving model to model/keypoint_classifier\\keypoint_classifier.hdf5\n",
            "35/35 [==============================] - 0s 5ms/step - loss: 0.7585 - accuracy: 0.7157 - val_loss: 0.4012 - val_accuracy: 0.9249\n",
            "Epoch 64/1000\n",
            "24/35 [===================>..........] - ETA: 0s - loss: 0.7595 - accuracy: 0.7188\n",
            "Epoch 64: saving model to model/keypoint_classifier\\keypoint_classifier.hdf5\n",
            "35/35 [==============================] - 0s 5ms/step - loss: 0.7649 - accuracy: 0.7148 - val_loss: 0.4008 - val_accuracy: 0.9167\n",
            "Epoch 65/1000\n",
            "25/35 [====================>.........] - ETA: 0s - loss: 0.7817 - accuracy: 0.7019\n",
            "Epoch 65: saving model to model/keypoint_classifier\\keypoint_classifier.hdf5\n",
            "35/35 [==============================] - 0s 5ms/step - loss: 0.7685 - accuracy: 0.7096 - val_loss: 0.3968 - val_accuracy: 0.9324\n",
            "Epoch 66/1000\n",
            "25/35 [====================>.........] - ETA: 0s - loss: 0.7581 - accuracy: 0.7169\n",
            "Epoch 66: saving model to model/keypoint_classifier\\keypoint_classifier.hdf5\n",
            "35/35 [==============================] - 0s 5ms/step - loss: 0.7587 - accuracy: 0.7139 - val_loss: 0.3960 - val_accuracy: 0.9311\n",
            "Epoch 67/1000\n",
            "24/35 [===================>..........] - ETA: 0s - loss: 0.7597 - accuracy: 0.7129\n",
            "Epoch 67: saving model to model/keypoint_classifier\\keypoint_classifier.hdf5\n",
            "35/35 [==============================] - 0s 5ms/step - loss: 0.7537 - accuracy: 0.7208 - val_loss: 0.3918 - val_accuracy: 0.9297\n",
            "Epoch 68/1000\n",
            "27/35 [======================>.......] - ETA: 0s - loss: 0.7468 - accuracy: 0.7266\n",
            "Epoch 68: saving model to model/keypoint_classifier\\keypoint_classifier.hdf5\n",
            "35/35 [==============================] - 0s 6ms/step - loss: 0.7630 - accuracy: 0.7164 - val_loss: 0.3948 - val_accuracy: 0.9249\n",
            "Epoch 69/1000\n",
            "25/35 [====================>.........] - ETA: 0s - loss: 0.7489 - accuracy: 0.7191\n",
            "Epoch 69: saving model to model/keypoint_classifier\\keypoint_classifier.hdf5\n",
            "35/35 [==============================] - 0s 5ms/step - loss: 0.7473 - accuracy: 0.7196 - val_loss: 0.3930 - val_accuracy: 0.9235\n",
            "Epoch 70/1000\n",
            "24/35 [===================>..........] - ETA: 0s - loss: 0.7398 - accuracy: 0.7256\n",
            "Epoch 70: saving model to model/keypoint_classifier\\keypoint_classifier.hdf5\n",
            "35/35 [==============================] - 0s 5ms/step - loss: 0.7467 - accuracy: 0.7262 - val_loss: 0.3920 - val_accuracy: 0.9338\n",
            "Epoch 71/1000\n",
            "23/35 [==================>...........] - ETA: 0s - loss: 0.7791 - accuracy: 0.7157\n",
            "Epoch 71: saving model to model/keypoint_classifier\\keypoint_classifier.hdf5\n",
            "35/35 [==============================] - 0s 5ms/step - loss: 0.7843 - accuracy: 0.7069 - val_loss: 0.3945 - val_accuracy: 0.9297\n",
            "Epoch 72/1000\n",
            "32/35 [==========================>...] - ETA: 0s - loss: 0.7460 - accuracy: 0.7251\n",
            "Epoch 72: saving model to model/keypoint_classifier\\keypoint_classifier.hdf5\n",
            "35/35 [==============================] - 0s 6ms/step - loss: 0.7466 - accuracy: 0.7274 - val_loss: 0.3973 - val_accuracy: 0.9270\n",
            "Epoch 73/1000\n",
            "19/35 [===============>..............] - ETA: 0s - loss: 0.7486 - accuracy: 0.7274\n",
            "Epoch 73: saving model to model/keypoint_classifier\\keypoint_classifier.hdf5\n",
            "35/35 [==============================] - 0s 5ms/step - loss: 0.7448 - accuracy: 0.7287 - val_loss: 0.3874 - val_accuracy: 0.9352\n",
            "Epoch 74/1000\n",
            "24/35 [===================>..........] - ETA: 0s - loss: 0.7595 - accuracy: 0.7161\n",
            "Epoch 74: saving model to model/keypoint_classifier\\keypoint_classifier.hdf5\n",
            "35/35 [==============================] - 0s 5ms/step - loss: 0.7532 - accuracy: 0.7167 - val_loss: 0.3907 - val_accuracy: 0.9256\n",
            "Epoch 75/1000\n",
            "23/35 [==================>...........] - ETA: 0s - loss: 0.7690 - accuracy: 0.7160\n",
            "Epoch 75: saving model to model/keypoint_classifier\\keypoint_classifier.hdf5\n",
            "35/35 [==============================] - 0s 5ms/step - loss: 0.7679 - accuracy: 0.7189 - val_loss: 0.3885 - val_accuracy: 0.9297\n",
            "Epoch 76/1000\n",
            "24/35 [===================>..........] - ETA: 0s - loss: 0.7625 - accuracy: 0.7080\n",
            "Epoch 76: saving model to model/keypoint_classifier\\keypoint_classifier.hdf5\n",
            "35/35 [==============================] - 0s 5ms/step - loss: 0.7577 - accuracy: 0.7121 - val_loss: 0.3879 - val_accuracy: 0.9311\n",
            "Epoch 77/1000\n",
            "24/35 [===================>..........] - ETA: 0s - loss: 0.7421 - accuracy: 0.7191\n",
            "Epoch 77: saving model to model/keypoint_classifier\\keypoint_classifier.hdf5\n",
            "35/35 [==============================] - 0s 5ms/step - loss: 0.7342 - accuracy: 0.7242 - val_loss: 0.3814 - val_accuracy: 0.9338\n",
            "Epoch 78/1000\n",
            "25/35 [====================>.........] - ETA: 0s - loss: 0.7419 - accuracy: 0.7203\n",
            "Epoch 78: saving model to model/keypoint_classifier\\keypoint_classifier.hdf5\n",
            "35/35 [==============================] - 0s 6ms/step - loss: 0.7346 - accuracy: 0.7269 - val_loss: 0.3868 - val_accuracy: 0.9297\n",
            "Epoch 79/1000\n",
            "24/35 [===================>..........] - ETA: 0s - loss: 0.7432 - accuracy: 0.7350\n",
            "Epoch 79: saving model to model/keypoint_classifier\\keypoint_classifier.hdf5\n",
            "35/35 [==============================] - 0s 5ms/step - loss: 0.7267 - accuracy: 0.7376 - val_loss: 0.3787 - val_accuracy: 0.9290\n",
            "Epoch 80/1000\n",
            "22/35 [=================>............] - ETA: 0s - loss: 0.7198 - accuracy: 0.7376\n",
            "Epoch 80: saving model to model/keypoint_classifier\\keypoint_classifier.hdf5\n",
            "35/35 [==============================] - 0s 6ms/step - loss: 0.7394 - accuracy: 0.7244 - val_loss: 0.3733 - val_accuracy: 0.9372\n",
            "Epoch 81/1000\n",
            "20/35 [================>.............] - ETA: 0s - loss: 0.7603 - accuracy: 0.7109\n",
            "Epoch 81: saving model to model/keypoint_classifier\\keypoint_classifier.hdf5\n",
            "35/35 [==============================] - 0s 6ms/step - loss: 0.7618 - accuracy: 0.7123 - val_loss: 0.3839 - val_accuracy: 0.9338\n",
            "Epoch 82/1000\n",
            "23/35 [==================>...........] - ETA: 0s - loss: 0.7284 - accuracy: 0.7252\n",
            "Epoch 82: saving model to model/keypoint_classifier\\keypoint_classifier.hdf5\n",
            "35/35 [==============================] - 0s 5ms/step - loss: 0.7307 - accuracy: 0.7296 - val_loss: 0.3783 - val_accuracy: 0.9345\n",
            "Epoch 83/1000\n",
            "18/35 [==============>...............] - ETA: 0s - loss: 0.7073 - accuracy: 0.7365\n",
            "Epoch 83: saving model to model/keypoint_classifier\\keypoint_classifier.hdf5\n",
            "35/35 [==============================] - 0s 5ms/step - loss: 0.7198 - accuracy: 0.7321 - val_loss: 0.3768 - val_accuracy: 0.9304\n",
            "Epoch 84/1000\n",
            "23/35 [==================>...........] - ETA: 0s - loss: 0.7647 - accuracy: 0.7069\n",
            "Epoch 84: saving model to model/keypoint_classifier\\keypoint_classifier.hdf5\n",
            "35/35 [==============================] - 0s 5ms/step - loss: 0.7511 - accuracy: 0.7192 - val_loss: 0.3765 - val_accuracy: 0.9358\n",
            "Epoch 85/1000\n",
            "26/35 [=====================>........] - ETA: 0s - loss: 0.7344 - accuracy: 0.7311\n",
            "Epoch 85: saving model to model/keypoint_classifier\\keypoint_classifier.hdf5\n",
            "35/35 [==============================] - 0s 5ms/step - loss: 0.7417 - accuracy: 0.7299 - val_loss: 0.3712 - val_accuracy: 0.9317\n",
            "Epoch 86/1000\n",
            "24/35 [===================>..........] - ETA: 0s - loss: 0.7293 - accuracy: 0.7314\n",
            "Epoch 86: saving model to model/keypoint_classifier\\keypoint_classifier.hdf5\n",
            "35/35 [==============================] - 0s 5ms/step - loss: 0.7309 - accuracy: 0.7301 - val_loss: 0.3689 - val_accuracy: 0.9420\n",
            "Epoch 87/1000\n",
            "23/35 [==================>...........] - ETA: 0s - loss: 0.7106 - accuracy: 0.7459\n",
            "Epoch 87: saving model to model/keypoint_classifier\\keypoint_classifier.hdf5\n",
            "35/35 [==============================] - 0s 5ms/step - loss: 0.7255 - accuracy: 0.7367 - val_loss: 0.3729 - val_accuracy: 0.9372\n",
            "Epoch 88/1000\n",
            "24/35 [===================>..........] - ETA: 0s - loss: 0.7107 - accuracy: 0.7396\n",
            "Epoch 88: saving model to model/keypoint_classifier\\keypoint_classifier.hdf5\n",
            "35/35 [==============================] - 0s 5ms/step - loss: 0.7157 - accuracy: 0.7378 - val_loss: 0.3696 - val_accuracy: 0.9304\n",
            "Epoch 89/1000\n",
            "22/35 [=================>............] - ETA: 0s - loss: 0.7465 - accuracy: 0.7372\n",
            "Epoch 89: saving model to model/keypoint_classifier\\keypoint_classifier.hdf5\n",
            "35/35 [==============================] - 0s 5ms/step - loss: 0.7431 - accuracy: 0.7335 - val_loss: 0.3659 - val_accuracy: 0.9338\n",
            "Epoch 90/1000\n",
            "24/35 [===================>..........] - ETA: 0s - loss: 0.7103 - accuracy: 0.7415\n",
            "Epoch 90: saving model to model/keypoint_classifier\\keypoint_classifier.hdf5\n",
            "35/35 [==============================] - 0s 6ms/step - loss: 0.7260 - accuracy: 0.7328 - val_loss: 0.3633 - val_accuracy: 0.9352\n",
            "Epoch 91/1000\n",
            "24/35 [===================>..........] - ETA: 0s - loss: 0.7300 - accuracy: 0.7334\n",
            "Epoch 91: saving model to model/keypoint_classifier\\keypoint_classifier.hdf5\n",
            "35/35 [==============================] - 0s 6ms/step - loss: 0.7238 - accuracy: 0.7337 - val_loss: 0.3665 - val_accuracy: 0.9331\n",
            "Epoch 92/1000\n",
            "25/35 [====================>.........] - ETA: 0s - loss: 0.7329 - accuracy: 0.7278\n",
            "Epoch 92: saving model to model/keypoint_classifier\\keypoint_classifier.hdf5\n",
            "35/35 [==============================] - 0s 5ms/step - loss: 0.7358 - accuracy: 0.7283 - val_loss: 0.3642 - val_accuracy: 0.9379\n",
            "Epoch 93/1000\n",
            "25/35 [====================>.........] - ETA: 0s - loss: 0.7270 - accuracy: 0.7303\n",
            "Epoch 93: saving model to model/keypoint_classifier\\keypoint_classifier.hdf5\n",
            "35/35 [==============================] - 0s 6ms/step - loss: 0.7354 - accuracy: 0.7271 - val_loss: 0.3610 - val_accuracy: 0.9399\n",
            "Epoch 94/1000\n",
            "22/35 [=================>............] - ETA: 0s - loss: 0.7521 - accuracy: 0.7177\n",
            "Epoch 94: saving model to model/keypoint_classifier\\keypoint_classifier.hdf5\n",
            "35/35 [==============================] - 0s 6ms/step - loss: 0.7397 - accuracy: 0.7249 - val_loss: 0.3640 - val_accuracy: 0.9297\n",
            "Epoch 95/1000\n",
            "25/35 [====================>.........] - ETA: 0s - loss: 0.7266 - accuracy: 0.7416\n",
            "Epoch 95: saving model to model/keypoint_classifier\\keypoint_classifier.hdf5\n",
            "35/35 [==============================] - 0s 5ms/step - loss: 0.7313 - accuracy: 0.7396 - val_loss: 0.3638 - val_accuracy: 0.9331\n",
            "Epoch 96/1000\n",
            "25/35 [====================>.........] - ETA: 0s - loss: 0.7198 - accuracy: 0.7347\n",
            "Epoch 96: saving model to model/keypoint_classifier\\keypoint_classifier.hdf5\n",
            "35/35 [==============================] - 0s 5ms/step - loss: 0.7247 - accuracy: 0.7337 - val_loss: 0.3632 - val_accuracy: 0.9399\n",
            "Epoch 97/1000\n",
            "25/35 [====================>.........] - ETA: 0s - loss: 0.7254 - accuracy: 0.7347\n",
            "Epoch 97: saving model to model/keypoint_classifier\\keypoint_classifier.hdf5\n",
            "35/35 [==============================] - 0s 5ms/step - loss: 0.7120 - accuracy: 0.7390 - val_loss: 0.3619 - val_accuracy: 0.9304\n",
            "Epoch 98/1000\n",
            "24/35 [===================>..........] - ETA: 0s - loss: 0.7208 - accuracy: 0.7402\n",
            "Epoch 98: saving model to model/keypoint_classifier\\keypoint_classifier.hdf5\n",
            "35/35 [==============================] - 0s 5ms/step - loss: 0.7215 - accuracy: 0.7362 - val_loss: 0.3611 - val_accuracy: 0.9242\n",
            "Epoch 99/1000\n",
            "24/35 [===================>..........] - ETA: 0s - loss: 0.7129 - accuracy: 0.7373\n",
            "Epoch 99: saving model to model/keypoint_classifier\\keypoint_classifier.hdf5\n",
            "35/35 [==============================] - 0s 4ms/step - loss: 0.7174 - accuracy: 0.7321 - val_loss: 0.3615 - val_accuracy: 0.9304\n",
            "Epoch 100/1000\n",
            "24/35 [===================>..........] - ETA: 0s - loss: 0.7253 - accuracy: 0.7301\n",
            "Epoch 100: saving model to model/keypoint_classifier\\keypoint_classifier.hdf5\n",
            "35/35 [==============================] - 0s 5ms/step - loss: 0.7234 - accuracy: 0.7296 - val_loss: 0.3629 - val_accuracy: 0.9249\n",
            "Epoch 101/1000\n",
            "24/35 [===================>..........] - ETA: 0s - loss: 0.7296 - accuracy: 0.7308\n",
            "Epoch 101: saving model to model/keypoint_classifier\\keypoint_classifier.hdf5\n",
            "35/35 [==============================] - 0s 5ms/step - loss: 0.7114 - accuracy: 0.7367 - val_loss: 0.3620 - val_accuracy: 0.9317\n",
            "Epoch 102/1000\n",
            "21/35 [=================>............] - ETA: 0s - loss: 0.7100 - accuracy: 0.7333\n",
            "Epoch 102: saving model to model/keypoint_classifier\\keypoint_classifier.hdf5\n",
            "35/35 [==============================] - 0s 5ms/step - loss: 0.7016 - accuracy: 0.7374 - val_loss: 0.3565 - val_accuracy: 0.9304\n",
            "Epoch 103/1000\n",
            "24/35 [===================>..........] - ETA: 0s - loss: 0.7208 - accuracy: 0.7311\n",
            "Epoch 103: saving model to model/keypoint_classifier\\keypoint_classifier.hdf5\n",
            "35/35 [==============================] - 0s 5ms/step - loss: 0.7152 - accuracy: 0.7308 - val_loss: 0.3540 - val_accuracy: 0.9386\n",
            "Epoch 104/1000\n",
            "23/35 [==================>...........] - ETA: 0s - loss: 0.7186 - accuracy: 0.7378\n",
            "Epoch 104: saving model to model/keypoint_classifier\\keypoint_classifier.hdf5\n",
            "35/35 [==============================] - 0s 5ms/step - loss: 0.7168 - accuracy: 0.7410 - val_loss: 0.3610 - val_accuracy: 0.9276\n",
            "Epoch 105/1000\n",
            "34/35 [============================>.] - ETA: 0s - loss: 0.7091 - accuracy: 0.7330\n",
            "Epoch 105: saving model to model/keypoint_classifier\\keypoint_classifier.hdf5\n",
            "35/35 [==============================] - 0s 7ms/step - loss: 0.7083 - accuracy: 0.7335 - val_loss: 0.3543 - val_accuracy: 0.9352\n",
            "Epoch 106/1000\n",
            "26/35 [=====================>........] - ETA: 0s - loss: 0.7021 - accuracy: 0.7386\n",
            "Epoch 106: saving model to model/keypoint_classifier\\keypoint_classifier.hdf5\n",
            "35/35 [==============================] - 0s 5ms/step - loss: 0.7013 - accuracy: 0.7369 - val_loss: 0.3539 - val_accuracy: 0.9386\n",
            "Epoch 107/1000\n",
            "26/35 [=====================>........] - ETA: 0s - loss: 0.7275 - accuracy: 0.7281\n",
            "Epoch 107: saving model to model/keypoint_classifier\\keypoint_classifier.hdf5\n",
            "35/35 [==============================] - 0s 7ms/step - loss: 0.7135 - accuracy: 0.7344 - val_loss: 0.3473 - val_accuracy: 0.9454\n",
            "Epoch 108/1000\n",
            "25/35 [====================>.........] - ETA: 0s - loss: 0.7258 - accuracy: 0.7216\n",
            "Epoch 108: saving model to model/keypoint_classifier\\keypoint_classifier.hdf5\n",
            "35/35 [==============================] - 0s 6ms/step - loss: 0.7241 - accuracy: 0.7228 - val_loss: 0.3563 - val_accuracy: 0.9379\n",
            "Epoch 109/1000\n",
            "24/35 [===================>..........] - ETA: 0s - loss: 0.6941 - accuracy: 0.7510\n",
            "Epoch 109: saving model to model/keypoint_classifier\\keypoint_classifier.hdf5\n",
            "35/35 [==============================] - 0s 7ms/step - loss: 0.6930 - accuracy: 0.7474 - val_loss: 0.3554 - val_accuracy: 0.9379\n",
            "Epoch 110/1000\n",
            "24/35 [===================>..........] - ETA: 0s - loss: 0.6958 - accuracy: 0.7445\n",
            "Epoch 110: saving model to model/keypoint_classifier\\keypoint_classifier.hdf5\n",
            "35/35 [==============================] - 0s 7ms/step - loss: 0.6869 - accuracy: 0.7474 - val_loss: 0.3564 - val_accuracy: 0.9358\n",
            "Epoch 111/1000\n",
            "24/35 [===================>..........] - ETA: 0s - loss: 0.7028 - accuracy: 0.7344\n",
            "Epoch 111: saving model to model/keypoint_classifier\\keypoint_classifier.hdf5\n",
            "35/35 [==============================] - 0s 6ms/step - loss: 0.6951 - accuracy: 0.7387 - val_loss: 0.3530 - val_accuracy: 0.9270\n",
            "Epoch 112/1000\n",
            "23/35 [==================>...........] - ETA: 0s - loss: 0.6926 - accuracy: 0.7452\n",
            "Epoch 112: saving model to model/keypoint_classifier\\keypoint_classifier.hdf5\n",
            "35/35 [==============================] - 0s 7ms/step - loss: 0.6959 - accuracy: 0.7403 - val_loss: 0.3481 - val_accuracy: 0.9420\n",
            "Epoch 113/1000\n",
            "26/35 [=====================>........] - ETA: 0s - loss: 0.6996 - accuracy: 0.7413\n",
            "Epoch 113: saving model to model/keypoint_classifier\\keypoint_classifier.hdf5\n",
            "35/35 [==============================] - 0s 6ms/step - loss: 0.6927 - accuracy: 0.7467 - val_loss: 0.3496 - val_accuracy: 0.9352\n",
            "Epoch 114/1000\n",
            "24/35 [===================>..........] - ETA: 0s - loss: 0.6899 - accuracy: 0.7490\n",
            "Epoch 114: saving model to model/keypoint_classifier\\keypoint_classifier.hdf5\n",
            "35/35 [==============================] - 0s 7ms/step - loss: 0.6962 - accuracy: 0.7442 - val_loss: 0.3477 - val_accuracy: 0.9379\n",
            "Epoch 115/1000\n",
            "27/35 [======================>.......] - ETA: 0s - loss: 0.7178 - accuracy: 0.7390\n",
            "Epoch 115: saving model to model/keypoint_classifier\\keypoint_classifier.hdf5\n",
            "35/35 [==============================] - 0s 6ms/step - loss: 0.7145 - accuracy: 0.7365 - val_loss: 0.3485 - val_accuracy: 0.9365\n",
            "Epoch 116/1000\n",
            "25/35 [====================>.........] - ETA: 0s - loss: 0.7010 - accuracy: 0.7387\n",
            "Epoch 116: saving model to model/keypoint_classifier\\keypoint_classifier.hdf5\n",
            "35/35 [==============================] - 0s 6ms/step - loss: 0.6948 - accuracy: 0.7444 - val_loss: 0.3475 - val_accuracy: 0.9420\n",
            "Epoch 117/1000\n",
            "24/35 [===================>..........] - ETA: 0s - loss: 0.7156 - accuracy: 0.7347\n",
            "Epoch 117: saving model to model/keypoint_classifier\\keypoint_classifier.hdf5\n",
            "35/35 [==============================] - 0s 6ms/step - loss: 0.7075 - accuracy: 0.7406 - val_loss: 0.3473 - val_accuracy: 0.9317\n",
            "Epoch 118/1000\n",
            "19/35 [===============>..............] - ETA: 0s - loss: 0.7035 - accuracy: 0.7327\n",
            "Epoch 118: saving model to model/keypoint_classifier\\keypoint_classifier.hdf5\n",
            "35/35 [==============================] - 0s 6ms/step - loss: 0.6992 - accuracy: 0.7387 - val_loss: 0.3499 - val_accuracy: 0.9365\n",
            "Epoch 119/1000\n",
            "22/35 [=================>............] - ETA: 0s - loss: 0.6982 - accuracy: 0.7425\n",
            "Epoch 119: saving model to model/keypoint_classifier\\keypoint_classifier.hdf5\n",
            "35/35 [==============================] - 0s 7ms/step - loss: 0.6917 - accuracy: 0.7426 - val_loss: 0.3480 - val_accuracy: 0.9317\n",
            "Epoch 120/1000\n",
            "19/35 [===============>..............] - ETA: 0s - loss: 0.6862 - accuracy: 0.7373\n",
            "Epoch 120: saving model to model/keypoint_classifier\\keypoint_classifier.hdf5\n",
            "35/35 [==============================] - 0s 7ms/step - loss: 0.6918 - accuracy: 0.7394 - val_loss: 0.3431 - val_accuracy: 0.9399\n",
            "Epoch 121/1000\n",
            "24/35 [===================>..........] - ETA: 0s - loss: 0.7116 - accuracy: 0.7308\n",
            "Epoch 121: saving model to model/keypoint_classifier\\keypoint_classifier.hdf5\n",
            "35/35 [==============================] - 0s 4ms/step - loss: 0.7041 - accuracy: 0.7346 - val_loss: 0.3511 - val_accuracy: 0.9324\n",
            "Epoch 122/1000\n",
            "23/35 [==================>...........] - ETA: 0s - loss: 0.6766 - accuracy: 0.7524\n",
            "Epoch 122: saving model to model/keypoint_classifier\\keypoint_classifier.hdf5\n",
            "35/35 [==============================] - 0s 5ms/step - loss: 0.6730 - accuracy: 0.7553 - val_loss: 0.3511 - val_accuracy: 0.9270\n",
            "Epoch 123/1000\n",
            "25/35 [====================>.........] - ETA: 0s - loss: 0.6803 - accuracy: 0.7516\n",
            "Epoch 123: saving model to model/keypoint_classifier\\keypoint_classifier.hdf5\n",
            "35/35 [==============================] - 0s 5ms/step - loss: 0.6763 - accuracy: 0.7513 - val_loss: 0.3509 - val_accuracy: 0.9338\n",
            "Epoch 124/1000\n",
            "24/35 [===================>..........] - ETA: 0s - loss: 0.6681 - accuracy: 0.7497\n",
            "Epoch 124: saving model to model/keypoint_classifier\\keypoint_classifier.hdf5\n",
            "35/35 [==============================] - 0s 5ms/step - loss: 0.6727 - accuracy: 0.7494 - val_loss: 0.3414 - val_accuracy: 0.9392\n",
            "Epoch 125/1000\n",
            "24/35 [===================>..........] - ETA: 0s - loss: 0.6747 - accuracy: 0.7389\n",
            "Epoch 125: saving model to model/keypoint_classifier\\keypoint_classifier.hdf5\n",
            "35/35 [==============================] - 0s 5ms/step - loss: 0.6776 - accuracy: 0.7390 - val_loss: 0.3363 - val_accuracy: 0.9365\n",
            "Epoch 126/1000\n",
            "23/35 [==================>...........] - ETA: 0s - loss: 0.7035 - accuracy: 0.7432\n",
            "Epoch 126: saving model to model/keypoint_classifier\\keypoint_classifier.hdf5\n",
            "35/35 [==============================] - 0s 5ms/step - loss: 0.7004 - accuracy: 0.7465 - val_loss: 0.3388 - val_accuracy: 0.9386\n",
            "Epoch 127/1000\n",
            "20/35 [================>.............] - ETA: 0s - loss: 0.6877 - accuracy: 0.7406\n",
            "Epoch 127: saving model to model/keypoint_classifier\\keypoint_classifier.hdf5\n",
            "35/35 [==============================] - 0s 5ms/step - loss: 0.6972 - accuracy: 0.7433 - val_loss: 0.3396 - val_accuracy: 0.9372\n",
            "Epoch 128/1000\n",
            "26/35 [=====================>........] - ETA: 0s - loss: 0.6619 - accuracy: 0.7572\n",
            "Epoch 128: saving model to model/keypoint_classifier\\keypoint_classifier.hdf5\n",
            "35/35 [==============================] - 0s 5ms/step - loss: 0.6678 - accuracy: 0.7547 - val_loss: 0.3466 - val_accuracy: 0.9290\n",
            "Epoch 129/1000\n",
            "35/35 [==============================] - ETA: 0s - loss: 0.6994 - accuracy: 0.7410\n",
            "Epoch 129: saving model to model/keypoint_classifier\\keypoint_classifier.hdf5\n",
            "35/35 [==============================] - 0s 6ms/step - loss: 0.6994 - accuracy: 0.7410 - val_loss: 0.3425 - val_accuracy: 0.9379\n",
            "Epoch 130/1000\n",
            "19/35 [===============>..............] - ETA: 0s - loss: 0.6936 - accuracy: 0.7377\n",
            "Epoch 130: saving model to model/keypoint_classifier\\keypoint_classifier.hdf5\n",
            "35/35 [==============================] - 0s 6ms/step - loss: 0.6810 - accuracy: 0.7460 - val_loss: 0.3478 - val_accuracy: 0.9304\n",
            "Epoch 131/1000\n",
            "27/35 [======================>.......] - ETA: 0s - loss: 0.6751 - accuracy: 0.7520\n",
            "Epoch 131: saving model to model/keypoint_classifier\\keypoint_classifier.hdf5\n",
            "35/35 [==============================] - 0s 8ms/step - loss: 0.6827 - accuracy: 0.7528 - val_loss: 0.3420 - val_accuracy: 0.9358\n",
            "Epoch 132/1000\n",
            "23/35 [==================>...........] - ETA: 0s - loss: 0.6876 - accuracy: 0.7459\n",
            "Epoch 132: saving model to model/keypoint_classifier\\keypoint_classifier.hdf5\n",
            "35/35 [==============================] - 0s 5ms/step - loss: 0.6762 - accuracy: 0.7524 - val_loss: 0.3413 - val_accuracy: 0.9358\n",
            "Epoch 133/1000\n",
            "21/35 [=================>............] - ETA: 0s - loss: 0.6891 - accuracy: 0.7530\n",
            "Epoch 133: saving model to model/keypoint_classifier\\keypoint_classifier.hdf5\n",
            "35/35 [==============================] - 0s 7ms/step - loss: 0.6797 - accuracy: 0.7510 - val_loss: 0.3371 - val_accuracy: 0.9331\n",
            "Epoch 134/1000\n",
            "22/35 [=================>............] - ETA: 0s - loss: 0.6683 - accuracy: 0.7493\n",
            "Epoch 134: saving model to model/keypoint_classifier\\keypoint_classifier.hdf5\n",
            "35/35 [==============================] - 0s 8ms/step - loss: 0.6751 - accuracy: 0.7519 - val_loss: 0.3356 - val_accuracy: 0.9406\n",
            "Epoch 135/1000\n",
            "26/35 [=====================>........] - ETA: 0s - loss: 0.6534 - accuracy: 0.7644\n",
            "Epoch 135: saving model to model/keypoint_classifier\\keypoint_classifier.hdf5\n",
            "35/35 [==============================] - 0s 5ms/step - loss: 0.6614 - accuracy: 0.7553 - val_loss: 0.3328 - val_accuracy: 0.9440\n",
            "Epoch 136/1000\n",
            "22/35 [=================>............] - ETA: 0s - loss: 0.6567 - accuracy: 0.7592\n",
            "Epoch 136: saving model to model/keypoint_classifier\\keypoint_classifier.hdf5\n",
            "35/35 [==============================] - 0s 5ms/step - loss: 0.6707 - accuracy: 0.7526 - val_loss: 0.3323 - val_accuracy: 0.9358\n",
            "Epoch 137/1000\n",
            "25/35 [====================>.........] - ETA: 0s - loss: 0.6806 - accuracy: 0.7525\n",
            "Epoch 137: saving model to model/keypoint_classifier\\keypoint_classifier.hdf5\n",
            "35/35 [==============================] - 0s 5ms/step - loss: 0.6801 - accuracy: 0.7483 - val_loss: 0.3420 - val_accuracy: 0.9379\n",
            "Epoch 138/1000\n",
            "24/35 [===================>..........] - ETA: 0s - loss: 0.6732 - accuracy: 0.7549\n",
            "Epoch 138: saving model to model/keypoint_classifier\\keypoint_classifier.hdf5\n",
            "35/35 [==============================] - 0s 5ms/step - loss: 0.6747 - accuracy: 0.7531 - val_loss: 0.3312 - val_accuracy: 0.9427\n",
            "Epoch 139/1000\n",
            "24/35 [===================>..........] - ETA: 0s - loss: 0.6636 - accuracy: 0.7503\n",
            "Epoch 139: saving model to model/keypoint_classifier\\keypoint_classifier.hdf5\n",
            "35/35 [==============================] - 0s 6ms/step - loss: 0.6576 - accuracy: 0.7522 - val_loss: 0.3258 - val_accuracy: 0.9433\n",
            "Epoch 140/1000\n",
            "22/35 [=================>............] - ETA: 0s - loss: 0.6984 - accuracy: 0.7301\n",
            "Epoch 140: saving model to model/keypoint_classifier\\keypoint_classifier.hdf5\n",
            "35/35 [==============================] - 0s 5ms/step - loss: 0.6943 - accuracy: 0.7349 - val_loss: 0.3451 - val_accuracy: 0.9311\n",
            "Epoch 141/1000\n",
            "24/35 [===================>..........] - ETA: 0s - loss: 0.6625 - accuracy: 0.7529\n",
            "Epoch 141: saving model to model/keypoint_classifier\\keypoint_classifier.hdf5\n",
            "35/35 [==============================] - 0s 5ms/step - loss: 0.6552 - accuracy: 0.7569 - val_loss: 0.3368 - val_accuracy: 0.9379\n",
            "Epoch 142/1000\n",
            "22/35 [=================>............] - ETA: 0s - loss: 0.6878 - accuracy: 0.7404\n",
            "Epoch 142: saving model to model/keypoint_classifier\\keypoint_classifier.hdf5\n",
            "35/35 [==============================] - 0s 5ms/step - loss: 0.6747 - accuracy: 0.7419 - val_loss: 0.3345 - val_accuracy: 0.9399\n",
            "Epoch 143/1000\n",
            "25/35 [====================>.........] - ETA: 0s - loss: 0.6756 - accuracy: 0.7553\n",
            "Epoch 143: saving model to model/keypoint_classifier\\keypoint_classifier.hdf5\n",
            "35/35 [==============================] - 0s 5ms/step - loss: 0.6690 - accuracy: 0.7583 - val_loss: 0.3403 - val_accuracy: 0.9324\n",
            "Epoch 144/1000\n",
            "21/35 [=================>............] - ETA: 0s - loss: 0.6999 - accuracy: 0.7400\n",
            "Epoch 144: saving model to model/keypoint_classifier\\keypoint_classifier.hdf5\n",
            "35/35 [==============================] - 0s 5ms/step - loss: 0.6790 - accuracy: 0.7485 - val_loss: 0.3375 - val_accuracy: 0.9331\n",
            "Epoch 145/1000\n",
            "25/35 [====================>.........] - ETA: 0s - loss: 0.6482 - accuracy: 0.7638\n",
            "Epoch 145: saving model to model/keypoint_classifier\\keypoint_classifier.hdf5\n",
            "35/35 [==============================] - 0s 5ms/step - loss: 0.6634 - accuracy: 0.7576 - val_loss: 0.3387 - val_accuracy: 0.9256\n",
            "Epoch 146/1000\n",
            "24/35 [===================>..........] - ETA: 0s - loss: 0.6567 - accuracy: 0.7643\n",
            "Epoch 146: saving model to model/keypoint_classifier\\keypoint_classifier.hdf5\n",
            "35/35 [==============================] - 0s 5ms/step - loss: 0.6696 - accuracy: 0.7544 - val_loss: 0.3348 - val_accuracy: 0.9338\n",
            "Epoch 147/1000\n",
            "24/35 [===================>..........] - ETA: 0s - loss: 0.6495 - accuracy: 0.7633\n",
            "Epoch 147: saving model to model/keypoint_classifier\\keypoint_classifier.hdf5\n",
            "35/35 [==============================] - 0s 5ms/step - loss: 0.6701 - accuracy: 0.7547 - val_loss: 0.3375 - val_accuracy: 0.9345\n",
            "Epoch 148/1000\n",
            "24/35 [===================>..........] - ETA: 0s - loss: 0.6559 - accuracy: 0.7585\n",
            "Epoch 148: saving model to model/keypoint_classifier\\keypoint_classifier.hdf5\n",
            "35/35 [==============================] - 0s 7ms/step - loss: 0.6507 - accuracy: 0.7619 - val_loss: 0.3371 - val_accuracy: 0.9372\n",
            "Epoch 149/1000\n",
            "24/35 [===================>..........] - ETA: 0s - loss: 0.6864 - accuracy: 0.7516\n",
            "Epoch 149: saving model to model/keypoint_classifier\\keypoint_classifier.hdf5\n",
            "35/35 [==============================] - 0s 6ms/step - loss: 0.6785 - accuracy: 0.7567 - val_loss: 0.3317 - val_accuracy: 0.9386\n",
            "Epoch 150/1000\n",
            "21/35 [=================>............] - ETA: 0s - loss: 0.6735 - accuracy: 0.7504\n",
            "Epoch 150: saving model to model/keypoint_classifier\\keypoint_classifier.hdf5\n",
            "35/35 [==============================] - 0s 6ms/step - loss: 0.6800 - accuracy: 0.7497 - val_loss: 0.3329 - val_accuracy: 0.9386\n",
            "Epoch 151/1000\n",
            "22/35 [=================>............] - ETA: 0s - loss: 0.6795 - accuracy: 0.7496\n",
            "Epoch 151: saving model to model/keypoint_classifier\\keypoint_classifier.hdf5\n",
            "35/35 [==============================] - 0s 5ms/step - loss: 0.6760 - accuracy: 0.7453 - val_loss: 0.3290 - val_accuracy: 0.9468\n",
            "Epoch 152/1000\n",
            "24/35 [===================>..........] - ETA: 0s - loss: 0.6882 - accuracy: 0.7363\n",
            "Epoch 152: saving model to model/keypoint_classifier\\keypoint_classifier.hdf5\n",
            "35/35 [==============================] - 0s 6ms/step - loss: 0.6810 - accuracy: 0.7458 - val_loss: 0.3353 - val_accuracy: 0.9365\n",
            "Epoch 153/1000\n",
            "21/35 [=================>............] - ETA: 0s - loss: 0.6445 - accuracy: 0.7612\n",
            "Epoch 153: saving model to model/keypoint_classifier\\keypoint_classifier.hdf5\n",
            "35/35 [==============================] - 0s 6ms/step - loss: 0.6575 - accuracy: 0.7519 - val_loss: 0.3303 - val_accuracy: 0.9358\n",
            "Epoch 154/1000\n",
            "24/35 [===================>..........] - ETA: 0s - loss: 0.6919 - accuracy: 0.7451\n",
            "Epoch 154: saving model to model/keypoint_classifier\\keypoint_classifier.hdf5\n",
            "35/35 [==============================] - 0s 5ms/step - loss: 0.6952 - accuracy: 0.7406 - val_loss: 0.3373 - val_accuracy: 0.9317\n",
            "Epoch 155/1000\n",
            "24/35 [===================>..........] - ETA: 0s - loss: 0.6626 - accuracy: 0.7490\n",
            "Epoch 155: saving model to model/keypoint_classifier\\keypoint_classifier.hdf5\n",
            "35/35 [==============================] - 0s 5ms/step - loss: 0.6604 - accuracy: 0.7535 - val_loss: 0.3300 - val_accuracy: 0.9447\n",
            "Epoch 156/1000\n",
            "23/35 [==================>...........] - ETA: 0s - loss: 0.6693 - accuracy: 0.7473\n",
            "Epoch 156: saving model to model/keypoint_classifier\\keypoint_classifier.hdf5\n",
            "35/35 [==============================] - 0s 5ms/step - loss: 0.6636 - accuracy: 0.7497 - val_loss: 0.3306 - val_accuracy: 0.9406\n",
            "Epoch 157/1000\n",
            "23/35 [==================>...........] - ETA: 0s - loss: 0.6709 - accuracy: 0.7456\n",
            "Epoch 157: saving model to model/keypoint_classifier\\keypoint_classifier.hdf5\n",
            "35/35 [==============================] - 0s 6ms/step - loss: 0.6715 - accuracy: 0.7487 - val_loss: 0.3325 - val_accuracy: 0.9358\n",
            "Epoch 158/1000\n",
            "23/35 [==================>...........] - ETA: 0s - loss: 0.6711 - accuracy: 0.7507\n",
            "Epoch 158: saving model to model/keypoint_classifier\\keypoint_classifier.hdf5\n",
            "35/35 [==============================] - 0s 6ms/step - loss: 0.6711 - accuracy: 0.7492 - val_loss: 0.3275 - val_accuracy: 0.9406\n",
            "Epoch 159/1000\n",
            "25/35 [====================>.........] - ETA: 0s - loss: 0.6781 - accuracy: 0.7478\n",
            "Epoch 159: saving model to model/keypoint_classifier\\keypoint_classifier.hdf5\n",
            "35/35 [==============================] - 0s 6ms/step - loss: 0.6795 - accuracy: 0.7483 - val_loss: 0.3329 - val_accuracy: 0.9461\n",
            "Epoch 159: early stopping\n"
          ]
        },
        {
          "data": {
            "text/plain": [
              "<keras.src.callbacks.History at 0x2b8dd006070>"
            ]
          },
          "execution_count": 33,
          "metadata": {},
          "output_type": "execute_result"
        }
      ],
      "source": [
        "model.fit(\n",
        "    X_train,\n",
        "    y_train,\n",
        "    epochs=1000,\n",
        "    batch_size=128,\n",
        "    validation_data=(X_test, y_test),\n",
        "    callbacks=[cp_callback, es_callback]\n",
        ")"
      ]
    },
    {
      "cell_type": "code",
      "execution_count": 34,
      "metadata": {
        "colab": {
          "base_uri": "https://localhost:8080/"
        },
        "id": "pxvb2Y299hE3",
        "outputId": "59eb3185-2e37-4b9e-bc9d-ab1b8ac29b7f"
      },
      "outputs": [
        {
          "name": "stdout",
          "output_type": "stream",
          "text": [
            "12/12 [==============================] - 0s 7ms/step - loss: 0.3329 - accuracy: 0.9461\n"
          ]
        }
      ],
      "source": [
        "# Model evaluation\n",
        "val_loss, val_acc = model.evaluate(X_test, y_test, batch_size=128)"
      ]
    },
    {
      "cell_type": "code",
      "execution_count": 35,
      "metadata": {
        "id": "RBkmDeUW9hE4"
      },
      "outputs": [],
      "source": [
        "# Loading the saved model\n",
        "model = tf.keras.models.load_model(model_save_path)"
      ]
    },
    {
      "cell_type": "code",
      "execution_count": 36,
      "metadata": {
        "colab": {
          "base_uri": "https://localhost:8080/"
        },
        "id": "tFz9Tb0I9hE4",
        "outputId": "1c3b3528-54ae-4ee2-ab04-77429211cbef"
      },
      "outputs": [
        {
          "name": "stdout",
          "output_type": "stream",
          "text": [
            "1/1 [==============================] - 0s 80ms/step\n",
            "[8.2614642e-01 9.1850214e-02 1.1858013e-03 8.0468304e-02 4.9083246e-07\n",
            " 3.4871619e-04]\n",
            "0\n"
          ]
        }
      ],
      "source": [
        "# Inference test\n",
        "predict_result = model.predict(np.array([X_test[0]]))\n",
        "print(np.squeeze(predict_result))\n",
        "print(np.argmax(np.squeeze(predict_result)))"
      ]
    },
    {
      "cell_type": "markdown",
      "metadata": {
        "id": "S3U4yNWx9hE4"
      },
      "source": [
        "# Confusion matrix"
      ]
    },
    {
      "cell_type": "code",
      "execution_count": 46,
      "metadata": {
        "colab": {
          "base_uri": "https://localhost:8080/",
          "height": 582
        },
        "id": "AP1V6SCk9hE5",
        "outputId": "08e41a80-7a4a-4619-8125-ecc371368d19"
      },
      "outputs": [
        {
          "name": "stdout",
          "output_type": "stream",
          "text": [
            "46/46 [==============================] - 0s 3ms/step\n"
          ]
        },
        {
          "data": {
            "image/png": "[encoded data removed]",
            "text/plain": [
              "<Figure size 700x600 with 2 Axes>"
            ]
          },
          "metadata": {},
          "output_type": "display_data"
        },
        {
          "name": "stdout",
          "output_type": "stream",
          "text": [
            "Classification Report\n",
            "              precision    recall  f1-score   support\n",
            "\n",
            "           0       0.92      0.98      0.95       428\n",
            "           1       0.99      0.93      0.96       416\n",
            "           2       0.93      0.98      0.96       325\n",
            "           3       0.98      0.60      0.74        82\n",
            "           4       0.92      1.00      0.96       119\n",
            "           5       0.99      0.97      0.98        95\n",
            "\n",
            "    accuracy                           0.95      1465\n",
            "   macro avg       0.95      0.91      0.92      1465\n",
            "weighted avg       0.95      0.95      0.94      1465\n",
            "\n"
          ]
        }
      ],
      "source": [
        "import pandas as pd\n",
        "import seaborn as sns\n",
        "import matplotlib.pyplot as plt\n",
        "from sklearn.metrics import confusion_matrix, classification_report\n",
        "\n",
        "def print_confusion_matrix(y_true, y_pred, report=True):\n",
        "    labels = sorted(list(set(y_true)))\n",
        "    cmx_data = confusion_matrix(y_true, y_pred, labels=labels)\n",
        "    \n",
        "    df_cmx = pd.DataFrame(cmx_data, index=labels, columns=labels)\n",
        " \n",
        "    fig, ax = plt.subplots(figsize=(7, 6))\n",
        "    sns.heatmap(df_cmx, annot=True, fmt='g' ,square=False)\n",
        "    ax.set_ylim(len(set(y_true)), 0)\n",
        "    ax.set_xlabel('Predicted label')\n",
        "    ax.set_ylabel('True label')\n",
        "    plt.show()\n",
        "    \n",
        "    if report:\n",
        "        print('Classification Report')\n",
        "        print(classification_report(y_test, y_pred))\n",
        "\n",
        "Y_pred = model.predict(X_test)\n",
        "y_pred = np.argmax(Y_pred, axis=1)\n",
        "\n",
        "print_confusion_matrix(y_test, y_pred)"
      ]
    },
    {
      "cell_type": "markdown",
      "metadata": {
        "id": "FNP6aqzc9hE5"
      },
      "source": [
        "# Convert to model for Tensorflow-Lite"
      ]
    },
    {
      "cell_type": "code",
      "execution_count": 38,
      "metadata": {
        "id": "ODjnYyld9hE6"
      },
      "outputs": [
        {
          "name": "stderr",
          "output_type": "stream",
          "text": [
            "c:\\Users\\joris\\miniconda3\\envs\\p39\\lib\\site-packages\\keras\\src\\engine\\training.py:3103: UserWarning: You are saving your model as an HDF5 file via `model.save()`. This file format is considered legacy. We recommend using instead the native Keras format, e.g. `model.save('my_model.keras')`.\n",
            "  saving_api.save_model(\n"
          ]
        }
      ],
      "source": [
        "# Save as a model dedicated to inference\n",
        "model.save(model_save_path, include_optimizer=False)"
      ]
    },
    {
      "cell_type": "code",
      "execution_count": 39,
      "metadata": {
        "colab": {
          "base_uri": "https://localhost:8080/"
        },
        "id": "zRfuK8Y59hE6",
        "outputId": "a4ca585c-b5d5-4244-8291-8674063209bb"
      },
      "outputs": [
        {
          "name": "stdout",
          "output_type": "stream",
          "text": [
            "INFO:tensorflow:Assets written to: C:\\Users\\joris\\AppData\\Local\\Temp\\tmphc1g1v_9\\assets\n"
          ]
        },
        {
          "name": "stderr",
          "output_type": "stream",
          "text": [
            "INFO:tensorflow:Assets written to: C:\\Users\\joris\\AppData\\Local\\Temp\\tmphc1g1v_9\\assets\n"
          ]
        },
        {
          "data": {
            "text/plain": [
              "6660"
            ]
          },
          "execution_count": 39,
          "metadata": {},
          "output_type": "execute_result"
        }
      ],
      "source": [
        "# Transform model (quantization)\n",
        "\n",
        "converter = tf.lite.TFLiteConverter.from_keras_model(model)\n",
        "converter.optimizations = [tf.lite.Optimize.DEFAULT]\n",
        "tflite_quantized_model = converter.convert()\n",
        "\n",
        "open(tflite_save_path, 'wb').write(tflite_quantized_model)"
      ]
    },
    {
      "cell_type": "markdown",
      "metadata": {
        "id": "CHBPBXdx9hE6"
      },
      "source": [
        "# Inference test"
      ]
    },
    {
      "cell_type": "code",
      "execution_count": 40,
      "metadata": {
        "id": "mGAzLocO9hE7"
      },
      "outputs": [],
      "source": [
        "interpreter = tf.lite.Interpreter(model_path=tflite_save_path)\n",
        "interpreter.allocate_tensors()"
      ]
    },
    {
      "cell_type": "code",
      "execution_count": 41,
      "metadata": {
        "id": "oQuDK8YS9hE7"
      },
      "outputs": [],
      "source": [
        "# Get I / O tensor\n",
        "input_details = interpreter.get_input_details()\n",
        "output_details = interpreter.get_output_details()"
      ]
    },
    {
      "cell_type": "code",
      "execution_count": 42,
      "metadata": {
        "id": "2_ixAf_l9hE7"
      },
      "outputs": [],
      "source": [
        "interpreter.set_tensor(input_details[0]['index'], np.array([X_test[0]]))"
      ]
    },
    {
      "cell_type": "code",
      "execution_count": 43,
      "metadata": {
        "colab": {
          "base_uri": "https://localhost:8080/"
        },
        "id": "s4FoAnuc9hE7",
        "outputId": "91f18257-8d8b-4ef3-c558-e9b5f94fabbf",
        "scrolled": true
      },
      "outputs": [
        {
          "name": "stdout",
          "output_type": "stream",
          "text": [
            "CPU times: total: 0 ns\n",
            "Wall time: 0 ns\n"
          ]
        }
      ],
      "source": [
        "%%time\n",
        "# Inference implementation\n",
        "interpreter.invoke()\n",
        "tflite_results = interpreter.get_tensor(output_details[0]['index'])"
      ]
    },
    {
      "cell_type": "code",
      "execution_count": 44,
      "metadata": {
        "colab": {
          "base_uri": "https://localhost:8080/"
        },
        "id": "vONjp19J9hE8",
        "outputId": "77205e24-fd00-42c4-f7b6-e06e527c2cba"
      },
      "outputs": [
        {
          "name": "stdout",
          "output_type": "stream",
          "text": [
            "[8.2614648e-01 9.1850266e-02 1.1858003e-03 8.0468304e-02 4.9083155e-07\n",
            " 3.4871654e-04]\n",
            "0\n"
          ]
        }
      ],
      "source": [
        "print(np.squeeze(tflite_results))\n",
        "print(np.argmax(np.squeeze(tflite_results)))"
      ]
    }
  ],
  "metadata": {
    "accelerator": "GPU",
    "colab": {
      "collapsed_sections": [],
      "name": "keypoint_classification_EN.ipynb",
      "provenance": [],
      "toc_visible": true
    },
    "kernelspec": {
      "display_name": "Python 3",
      "language": "python",
      "name": "python3"
    },
    "language_info": {
      "codemirror_mode": {
        "name": "ipython",
        "version": 3
      },
      "file_extension": ".py",
      "mimetype": "text/x-python",
      "name": "python",
      "nbconvert_exporter": "python",
      "pygments_lexer": "ipython3",
      "version": "3.9.18"
    }
  },
  "nbformat": 4,
  "nbformat_minor": 0
}
